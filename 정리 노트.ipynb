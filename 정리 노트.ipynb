{
 "cells": [
  {
   "cell_type": "markdown",
   "id": "864f330a-d32f-4280-b609-8fb9d77ea31a",
   "metadata": {},
   "source": [
    "### 1 자료형"
   ]
  },
  {
   "cell_type": "code",
   "execution_count": null,
   "id": "54af7362-84b5-4b02-aff7-b9bbb9c93420",
   "metadata": {},
   "outputs": [],
   "source": [
    "# 정수형\n",
    "# 실수형\n",
    "# 문자형\n",
    "# 논리형"
   ]
  },
  {
   "cell_type": "markdown",
   "id": "96f7ad31-063f-408e-a79a-1ecbe16bc46e",
   "metadata": {},
   "source": [
    "### 2 Variable Naming Rules (변수 이름 규칙)"
   ]
  },
  {
   "cell_type": "code",
   "execution_count": null,
   "id": "c1c2c863-944f-439c-9ba2-469759730ded",
   "metadata": {},
   "outputs": [],
   "source": [
    "# 1. 영문자, 숫자, Underscore\n",
    "# 2. 영문자는 대소문자를 다르게 인식\n",
    "# 3. 문자를 아스키 값으로 인지!! : A : 65, a : 97, 0 : 48\n",
    "# * ord() 함수로 문자의 아스키코드 값을 알아 낼 수 있다\n",
    "# 반대로 chr()을 쓰면 아스키 코드 값을 다시 문자로 바꿀 수 있음\n",
    "# 4. 숫자로 시작할 수 없다.\n",
    "# 5. 키워드(예약어)를 사용할 수 없다.\n",
    "# from keyword import kwlist\n",
    "# print(kwlist)\n",
    "\n",
    "# *** 변수의 첫 문자는 소문자로 (클래스 이름을 대문자로 시작하기로 약속) ***"
   ]
  },
  {
   "cell_type": "markdown",
   "id": "646eb5a1-0690-4886-8d1d-bdb8b3ce4fba",
   "metadata": {},
   "source": [
    "### 3 연산자(operator)"
   ]
  },
  {
   "cell_type": "code",
   "execution_count": null,
   "id": "bcc73fc1-ade5-46a6-9098-327f7e91f790",
   "metadata": {},
   "outputs": [],
   "source": [
    "# 1. 산술 연산자 \n",
    "# +, -, *, /, //, %, **\n",
    "\n",
    "# 2. 대입 연산자\n",
    "# =, +=, -=, *=, /=, //=, %=, **=\n",
    "\n",
    "# 3. 관계(비교) 연산자\n",
    "# >, >=, <, <=, ==, !=\n",
    "\n",
    "# 4. 논리 연산자\n",
    "# not(!), and(&&), or(||)\n",
    "\n",
    "# 5. 조건 (삼항) 연산자\n",
    "# a if 조건식 else b\n",
    "\n",
    "# 6. 비트 연산자\n",
    "# &(AND), |(OR), ^(XOR)"
   ]
  },
  {
   "cell_type": "markdown",
   "id": "bfd09747-5927-479a-853a-f102e4428c1b",
   "metadata": {},
   "source": [
    "### 4 IEEE 754"
   ]
  },
  {
   "cell_type": "code",
   "execution_count": null,
   "id": "42b3a0b8-d300-45a0-8315-9dfecdfd51ad",
   "metadata": {},
   "outputs": [],
   "source": [
    "# double : 부호비트 1, 정수부 11비트, 실수부 52비트\n",
    "# bias : 1023\n",
    "\n",
    "# 과학시간 유효숫자\n",
    "\n",
    "# 1023.4567 = 1.0234567 x 10^3\n",
    "\n",
    "# 110.1(2) = 1.101(2) x 2^2\n",
    "\n",
    "# 6.5\n",
    "\n",
    "# 정수부.실수부\n",
    "\n",
    "# 110.1(2)\n",
    "\n",
    "# IEEE 754 (우리는 알아야 함)\n",
    "\n",
    "# double : 부호비트 1, 정수부 11비트, 실수부 52비트\n",
    "\n",
    "# bias : 1023\n",
    "\n",
    "# 자릿수 2 + 1023 = 1025 -> 10000000001\n",
    "\n",
    "# 01000000 00011010 00000000 00000000 \n",
    "\n",
    "# 00000000 00000000 00000000 00000000 \n",
    "\n",
    "# 3.3을 저장하고 싶어요\n",
    "\n",
    "# 소수 부분을 2진법 변환\n",
    "\n",
    "# 2를 곱해서 자기 자신 혹은 1이 나올 때까지\n",
    "\n",
    "# 0.3 x 2 = 0.6\n",
    "\n",
    "# 0.6 x 2 = 1.2\n",
    "\n",
    "# 0.2 x 2 = 0.4\n",
    "\n",
    "# 0.4 x 2 = 0.8\n",
    "\n",
    "# 0.8 x 2 = 1.6"
   ]
  },
  {
   "cell_type": "markdown",
   "id": "f10a5fd1-aba7-449d-99c3-f5a59e795c09",
   "metadata": {},
   "source": [
    "### 5 사용자 정의 함수"
   ]
  },
  {
   "cell_type": "code",
   "execution_count": null,
   "id": "a0bf7423-9ae5-4a41-85ed-bde620986814",
   "metadata": {},
   "outputs": [],
   "source": [
    "# def 함수명(매개변수):\n",
    "#    로직\n",
    "# 형태로 만듦\n",
    "\n",
    "# 반환값이 있으면 : 반환값을 변수로 대입해서 활용 가능\n",
    "# 반환값이 없으면 : 변수로 활용 불가능 (None값)\n",
    "\n",
    "# 매개변수가 없으면 : 정해진(고정적인) 작업만 수행 "
   ]
  },
  {
   "cell_type": "markdown",
   "id": "aefb5830-bb6d-478d-a1f9-deddbaa7ba2b",
   "metadata": {},
   "source": [
    "### 6 자료구조 (Data Structure)"
   ]
  },
  {
   "cell_type": "code",
   "execution_count": null,
   "id": "f57f706e-c6d2-4b6f-8bc3-b8d54d2cdc3d",
   "metadata": {},
   "outputs": [],
   "source": [
    "# 1) 선형 : 배열, 연결리스트, 스택 , 큐\n",
    "# 2) 비선형 : 트리, 그래프\n",
    "\n",
    "# 파이썬에서는 선형 구조중 배열을 리스트라는 이름으로 사용"
   ]
  },
  {
   "cell_type": "markdown",
   "id": "9ddb234b-5419-4438-bd05-1728f11cc14b",
   "metadata": {},
   "source": [
    "### 6-1 리스트"
   ]
  },
  {
   "cell_type": "code",
   "execution_count": null,
   "id": "25796fcd-96a9-4210-80eb-82f0622e4df2",
   "metadata": {},
   "outputs": [],
   "source": [
    "# 리스트명 = []\n",
    "# 1. 인덱싱 (indexing)\n",
    "# 무언가를 가리킨다는 뜻\n",
    "# 리스트명[인덱스 번호]\n",
    "\n",
    "# 2. 슬라이싱 (Slicing)\n",
    "\n",
    "# 3. 치환 (swap)\n",
    "# 임시 저장 공간 1개 필요\n",
    "\n",
    "# 4. 정렬\n",
    "# 4-1. 버블 정렬(Bubble Sort)\n",
    "# for j in range(4):\n",
    "#     for i in range(4 - j):\n",
    "#         if array[i] > array[i + 1]:\n",
    "#             temp = array[i]\n",
    "#             array[i] = array[i + 1]\n",
    "#             array[i + 1] = temp\n",
    "# 4-2. 선택 정렬(Selection Sort)\n",
    "# for j in range(4):\n",
    "#     max_index = 0\n",
    "#     for i in range(5 - j):\n",
    "#         if a[i] > a[max_index]:\n",
    "#             max_index = i\n",
    "#     temp = a[max_index]\n",
    "#     a[max_index] = a[4 - j]\n",
    "#     a[4 - j] = temp\n",
    "\n",
    "# 5. 탐색\n",
    "# 5-1) Sequential Search\n",
    "# 모든 요소 비교\n",
    "# for i in range(len(리스트명)):\n",
    "#     if arr[i] == search:\n",
    "#         index = i\n",
    "#         break\n",
    "# 5-2) 이진 탐색 (Binary Search)\n",
    "# 범위를 2분할 하여 값을 탐색하는 기법\n",
    "# 선행 조건 : 오름차순, 내림차순 정렬\n",
    "# low_index = 0\n",
    "# high_index = 9\n",
    "\n",
    "# import time\n",
    "# search = 77\n",
    "\n",
    "# while low_index <= high_index:\n",
    "        \n",
    "#     mid_index = (low_index + high_index) // 2\n",
    "#     if list4[mid_index] < search:\n",
    "#         low_index = mid_index + 1\n",
    "#     elif list4[mid_index] > search:\n",
    "#         high_index = mid_index - 1\n",
    "#     else:\n",
    "#         index = mid_index\n",
    "#         break"
   ]
  },
  {
   "cell_type": "markdown",
   "id": "fedaa3f5-88ab-4c07-ae4f-500c779da559",
   "metadata": {},
   "source": [
    "### 6-2.딕셔너리"
   ]
  },
  {
   "cell_type": "code",
   "execution_count": null,
   "id": "50c97238-c706-4678-9cbd-b491811958f1",
   "metadata": {},
   "outputs": [],
   "source": [
    "# key-value 쌍으로 이루어진 자료구조\n",
    "# {}로 이루어져 있다\n",
    "# API통신에 사용"
   ]
  },
  {
   "cell_type": "markdown",
   "id": "8b80dd1b-22a9-4cfe-bf36-6f87e1956302",
   "metadata": {},
   "source": [
    "### 6-3.튜플"
   ]
  },
  {
   "cell_type": "code",
   "execution_count": null,
   "id": "74bd0c8e-a9b7-454b-ab1d-1ed6edca36e5",
   "metadata": {},
   "outputs": [],
   "source": [
    "# 리스트 대비 추가, 수정, 삭제 불가"
   ]
  },
  {
   "cell_type": "markdown",
   "id": "a8e52258-7d9f-480f-b8e0-13c298b28624",
   "metadata": {},
   "source": [
    "### 6-4.세트(Set)"
   ]
  },
  {
   "cell_type": "code",
   "execution_count": null,
   "id": "eaf78899-f884-4063-a46f-7adc8e76142f",
   "metadata": {},
   "outputs": [],
   "source": [
    "# 중복을 허용하지 않는 자료구조\n",
    "# 순서가 없다. : 메모리상에 올라갈 때, 주솟값이 연속적이지 않다\n",
    "# {}로 표기하면서 key-value가 없으면 set\n",
    "# 중복 제거, 교집합(&), 합집합(|), 차집합(-)"
   ]
  },
  {
   "cell_type": "markdown",
   "id": "912279f7-d523-431f-88db-aa38594ff1d8",
   "metadata": {},
   "source": [
    "### 7. 반복문"
   ]
  },
  {
   "cell_type": "code",
   "execution_count": null,
   "id": "30517739-c263-4c0c-b5a1-4d2658c4e501",
   "metadata": {},
   "outputs": [],
   "source": [
    "# 1.while\n",
    "# 대개 반복 횟수가 정해져 있지 않을 때\n",
    "# while 조건식:\n",
    "#    실행문장\n",
    "\n",
    "# 2. for\n",
    "# 대개 반복 횟수가 정해져 있을 때\n",
    "# for 변수 in 반복가능한객체:\n",
    "#    실행할 코드\n",
    "# 1) 리스트 순회하기\n",
    "# for 변수 in 리스트명\n",
    "# 2) range()함수 사용\n",
    "# for i in range(x) / (x, y) / (x / y / z) : 0 ~ x까지 / x ~ y 까지 / x ~ y까지 z간격으로"
   ]
  },
  {
   "cell_type": "markdown",
   "id": "8e9d635b-ae87-4404-b7ef-6b18db023b2e",
   "metadata": {},
   "source": [
    "### 8. 데이터 포맷"
   ]
  },
  {
   "cell_type": "code",
   "execution_count": null,
   "id": "d8ea5fa9-eca6-400e-a2a4-6092c50a5d8d",
   "metadata": {},
   "outputs": [],
   "source": [
    "# 1. CSV (Comma Separated Value)\n",
    "# 장점 : 길이가 짧다 (비용 저렴)\n",
    "# 단점 : 데이터의 내용을 상대적으로 해석하기 어려움\n",
    "\n",
    "# 2. XML (eXtensible Markup Language)\n",
    "# 장점 : 데이터의 내용을 상대적으로 해석하기 쉽다\n",
    "# 단점 : 길이가 길다 (비용 비쌈)\n",
    "\n",
    "# 3. JSON (JavaScript Object Notation)\n",
    "# 장점 : XML보다 저렴, CSV보다 해석 용이\n",
    "# 단점 : CSV보다 비쌈, XML보다 해석 어려움"
   ]
  },
  {
   "cell_type": "markdown",
   "id": "54e0caef-ad46-4df6-b2b8-2ed7947819f3",
   "metadata": {},
   "source": [
    "### 9. 함수"
   ]
  },
  {
   "cell_type": "code",
   "execution_count": null,
   "id": "ee4a6dea-70e8-49f7-a906-f539b6c5c64b",
   "metadata": {},
   "outputs": [],
   "source": [
    "# 반복되는 기능이 모여 있는 코드의 집합\n",
    "# 리턴 값은 반드시 1개이다.\n",
    "\n",
    "# 변수 : 반복되는 값\n",
    "# 반복문 : 반복되는 실행 문장\n",
    "\n",
    "# def 함수명(매개변수):\n",
    "#    실행문장\n",
    "#    return 반환 값\n",
    "\n",
    "# 내장함수\n",
    "# 외장함수 : import 라이브러리\n",
    "# 사용자 정의 함수\n",
    "\n",
    "# 함수의 매개변수 순서 규칙\n",
    "# 일반 변수, *args(일반 가변 인자), **kwargs(키워드 가변 인자) 순서로 작성해야 한다.\n",
    "# *args는 튜플로 받음\n",
    "# **kwargs는 딕셔너리 형태로 받음"
   ]
  },
  {
   "cell_type": "markdown",
   "id": "ca5abd15-d93e-4ee5-a764-507a1c6caaf3",
   "metadata": {},
   "source": [
    "### 10. 클래스"
   ]
  },
  {
   "cell_type": "code",
   "execution_count": null,
   "id": "40b105a9-b8db-4e60-aef8-d486e0ea7ae0",
   "metadata": {},
   "outputs": [],
   "source": [
    "# 클래스 : 제품의 설계도 // *클래스명은 대문자로 시작\n",
    "# *self : 클래스 이름을 반환, 클래스 내 함수 정의 시 첫 번째 매개변수로 설정, 클래스 내 변수 호출 시 self.변수이름\n",
    "# 객체 : 설계도로 만든 제품\n",
    "# 속성 : 클래스 안의 변수\n",
    "# 메소드 : 클래스 안의 함수\n",
    "# 생성자 : 객체를 만들 때, 실행되는 함수\n",
    "# 인스턴스 : 메모리에 살아있는 객체\n",
    "# member : field(변수) + function(메소드)\n",
    "\n",
    "# 접근 제어자 : 외부에서 변수(함수)를 바라볼 수 있는 범위를 설정\n",
    "# public : 누구나 어디에서나\n",
    "# _protected : 상속 관계 + 같은 패키지(폴더)\n",
    "# __private : 같은 클래스 내\n",
    "\n",
    "# 객체 지향 프로그래밍 (Object Oriented Programming)\n",
    "# 독립된 객체들 간의 메시지를 주고 받음으로써 프로그램을 구성하는 방식\n",
    "# 상속(Inheritance) : 기존에 만들어졌던 클래스의 멤버를 물려받아 재사용\n",
    "# 함수 Overriding : 자식 클래스에서 부모로부터 받은 함수를 재정의\n",
    "# class 클래스명(부모클래스):\n",
    "\n"
   ]
  },
  {
   "cell_type": "markdown",
   "id": "282e3e58-baee-411f-b2d1-786c04d09709",
   "metadata": {},
   "source": [
    "### 11. 연결리스트 (Linked List)"
   ]
  },
  {
   "cell_type": "code",
   "execution_count": null,
   "id": "ced78dd7-fbf8-421e-8f10-d2aedcd29650",
   "metadata": {},
   "outputs": [],
   "source": [
    "class LinkedList:\n",
    "    def __init__(self):\n",
    "        self.head = None\n",
    "\n",
    "    def append(self, data):\n",
    "        if self.head == None:\n",
    "            self.head = Node(data)\n",
    "        else:\n",
    "            curr = self.head # 현재 우리가 가리키고 있는 노드\n",
    "            while curr.next:\n",
    "                curr = curr.next\n",
    "            curr.next = Node(data)\n",
    "    def __str__(self):\n",
    "        result = \"\"\n",
    "        curr = self.head\n",
    "\n",
    "        while True:\n",
    "            result += str(curr.data)\n",
    "\n",
    "            if curr.next == None:\n",
    "                break\n",
    "            curr = curr.next\n",
    "            \n",
    "            result += \" -> \"\n",
    "            \n",
    "        return result\n",
    "        # 1 -> 2 -> 10 -> 100"
   ]
  },
  {
   "cell_type": "markdown",
   "id": "ad994bbb-6728-4f2f-bb80-0783d3613005",
   "metadata": {},
   "source": [
    "### 12. 스택"
   ]
  },
  {
   "cell_type": "code",
   "execution_count": null,
   "id": "9038943d-58e9-48a7-a12c-a7e46dfc2988",
   "metadata": {},
   "outputs": [],
   "source": [
    "# Node 활용\n",
    "# Last In First Out(LIFO)\n",
    "\n",
    "# push(10)\n",
    "# pop() -> 가장 위 노드를 제거, 노드 data를 반환!!\n",
    "# peek() -> 가장 위 노드 data 반환!!\n",
    "# is_empty() -> 만약, 스택이 비어있으면 True, 비어있지 않으면 False\n",
    "\n",
    "class Node:\n",
    "    def __init__(self, data):\n",
    "        self.data = data\n",
    "        self.next = None\n",
    "\n",
    "class Stack:\n",
    "    def __init__(self):\n",
    "        self.top = None\n",
    "\n",
    "    def push(self, data):\n",
    "        if self.top == None:\n",
    "            self.top = Node(data)\n",
    "        else:\n",
    "            curr = Node(data)\n",
    "            curr.next = self.top\n",
    "            self.top = curr\n",
    "\n",
    "    def pop(self):\n",
    "        # 가장 윗 노드 제거, 해당 data 반환\n",
    "        if self.top == None:\n",
    "            return None\n",
    "        else:\n",
    "            curr = self.top\n",
    "            self.top = self.top.next\n",
    "            return curr.data\n",
    "    def peek(self):\n",
    "        # 가장 윗 노드의 data 반환\n",
    "        if self.top == None:\n",
    "            return None\n",
    "        else:\n",
    "            curr = self.top\n",
    "            return curr.data\n",
    "\n",
    "    def is_empty(self):\n",
    "        return self.top == None\n",
    "\n",
    "    def __str__(self):\n",
    "        result = \"\"\n",
    "\n",
    "        curr = self.top\n",
    "\n",
    "        while True:\n",
    "            result += str(curr.data)\n",
    "            if curr.next == None:\n",
    "                break\n",
    "            curr = curr.next\n",
    "            result += \" -> \"\n",
    "            \n",
    "        return result   "
   ]
  },
  {
   "cell_type": "markdown",
   "id": "cbf82387-fba8-4739-9efe-feffff78d5bb",
   "metadata": {},
   "source": [
    "### 13. numpy (Numerical Python)"
   ]
  },
  {
   "cell_type": "code",
   "execution_count": null,
   "id": "f2b138cf-c684-422a-bc37-2686a3eb3888",
   "metadata": {},
   "outputs": [],
   "source": [
    "# 계산 및 데이터 분석 라이브러리\n",
    "# 다차원 배열 (ndarray)\n",
    "# N-dimensional Array : 벡터 연산을 통해 리스트보다 빠름\n",
    "# 대량 데이터 기준 100배 이상\n",
    "# 백만개 기준 75배\n",
    "# C언어 기반 Logic, 모든 요소에 대해 동시 연산"
   ]
  },
  {
   "cell_type": "markdown",
   "id": "721239f8-d128-4e3b-85ba-c6e8840eb364",
   "metadata": {},
   "source": [
    "### 14. Pandas"
   ]
  },
  {
   "cell_type": "code",
   "execution_count": null,
   "id": "488013e0-814b-4194-9e65-8d2202d16010",
   "metadata": {},
   "outputs": [],
   "source": [
    "# 2차원 데이터(테이블 형태)를 다루는 데 특화된 라이브러리\n",
    "# 2차원 데이터 : DataFrame\n",
    "# 1차원 데이터 : Series"
   ]
  },
  {
   "cell_type": "markdown",
   "id": "10d024a5-3501-4444-bab2-03ba261606ec",
   "metadata": {},
   "source": [
    "### 15. 얕은 복사 VS 깊은 복사"
   ]
  },
  {
   "cell_type": "code",
   "execution_count": null,
   "id": "66e6e380-17d0-46ff-87eb-3d959c1a038f",
   "metadata": {},
   "outputs": [],
   "source": [
    "# 1. 얕은 복사\n",
    "# 주소만 복사\n",
    "# 객체를 복사할 때, 가장 상위 레벨의 객체만 새로 만들고, 그 안에 있는 요소(객체)들은 원본 객체와 같은 주소를 공유\n",
    "# ex) 원본 : apple[리스트1, 리스트2]\n",
    "#     얕은 복사본 : apple'[리스트1, 리스트2] 여기서 apple' 는 새로운 상위 리스트지만, \n",
    "#                  그 안에 있는 리스트1, 리스트2는 원본 apple과 똑같은 메모리 공간에 있는 리스트1, 리스트2를 가리킴\n",
    "# 특징 : 새로운 상위 객체를 만듦\n",
    "#        하지만, 그 객체가 참조하는 내부의 객체(리스트 안의 리스트, 딕셔너리 안의 딕셔너리 등)는 원본과 복사본이 서로 같은 곳을 바라봄\n",
    "#        그래서 원본의 '내부 객체'를 수정하면, 복사본의 '내부 객체'도 같이 수정 됨\n",
    "#        만약, 복사하는 객체 안에 숫자, 문자열처럼 더 이상 쪼개질 수 없는(immutable) 요소들만 있다면 얕은 복사가 깊은 복사처럼 동작\n",
    "\n",
    "# 2. 깊은 복사\n",
    "# 통째로 새로 만듦\n",
    "# 원본과 복사본은 메모리적으로 완전히 독립\n",
    "# copy 모듈에 있는 deepcopy() 함수 사용"
   ]
  },
  {
   "cell_type": "markdown",
   "id": "f079b5d4-4449-4063-9e65-287c49ad6a07",
   "metadata": {},
   "source": [
    "### 16. 시각화"
   ]
  },
  {
   "cell_type": "code",
   "execution_count": null,
   "id": "bd977cd4-115d-4046-8f20-032ed4396457",
   "metadata": {},
   "outputs": [],
   "source": [
    "# matplotlib\n",
    "# 선, 막대, 산점도, 히스토그램 등 그래프를 그림"
   ]
  }
 ],
 "metadata": {
  "kernelspec": {
   "display_name": "Python 3 (ipykernel)",
   "language": "python",
   "name": "python3"
  },
  "language_info": {
   "codemirror_mode": {
    "name": "ipython",
    "version": 3
   },
   "file_extension": ".py",
   "mimetype": "text/x-python",
   "name": "python",
   "nbconvert_exporter": "python",
   "pygments_lexer": "ipython3",
   "version": "3.12.11"
  }
 },
 "nbformat": 4,
 "nbformat_minor": 5
}
