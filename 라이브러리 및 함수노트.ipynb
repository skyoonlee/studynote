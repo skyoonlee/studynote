{
 "cells": [
  {
   "cell_type": "markdown",
   "id": "c26dcc4c-d338-4fed-828d-01f59814486a",
   "metadata": {},
   "source": [
    "### 내장 함수"
   ]
  },
  {
   "cell_type": "code",
   "execution_count": null,
   "id": "1b2a4960-03f2-4528-935e-fbc3918a8484",
   "metadata": {},
   "outputs": [],
   "source": [
    "# 1. 수학 관련 함수\n",
    "# abs(x) : 절대값\n",
    "# max() : 최댓값\n",
    "# min() : 최솟값\n",
    "# sum() : 모든 요소의 합\n",
    "# round() : 반올림\n",
    "\n",
    "# 2. 타입 변환 함수\n",
    "# int() : 정수 변환\n",
    "# float() : 실수 변환\n",
    "# str() : 문자열 변환\n",
    "# list() : 리스트로 변환\n",
    "# tuple() : 튜플로 변환\n",
    "# dict() : 키-값 쌍을 딕셔너리로 변환\n",
    "# set() : 집합으로 변환\n",
    "# bool : 불리언으로 변환\n",
    "\n",
    "# 3.컬렉션 처리 함수\n",
    "# len() : 길이(요소 개수) 반환\n",
    "# sorted() : 정렬 결과 반환\n",
    "# enumerate() : 요소와 인덱스 함께 반환\n",
    "# zip() : 여러 컬렉션을 동시에 순회하면서 튜플로 묶어줌   ex) num = [1, 2, 3, 4, 5] , alphabet = [a, b, c, d, e] 일 때, \n",
    "# num_apb = zip(num,alphabet) ---> apb = (1, a), (2, b), (3, c), (4, d), (5, e)\n",
    "# any() : 하나라도 True인 요소가 있으면 True 반환\n",
    "# all() : 모든 요소가 True일 때만 True 반환\n",
    "\n",
    "\n",
    "# 4. 기타 유용한 함수\n",
    "# print() : 출력\n",
    "# input() : 입력\n",
    "# range() : 연속된 숫자 생성\n",
    "# type() : 객체의 타입 반환\n",
    "# eval() : 문자열로 된 파이썬 표현식 실행\n",
    "# map() : 함수를 컬렉션의 모든 요소에 적용\n",
    "# filter() : 함수를 통과한 요소들만 추출\n",
    "# lambda : 익명 함수를 만듦"
   ]
  },
  {
   "cell_type": "markdown",
   "id": "44ddae5a-8dad-4fbc-ab53-5054464511e6",
   "metadata": {},
   "source": [
    "### 문자열 메소드"
   ]
  },
  {
   "cell_type": "code",
   "execution_count": 2,
   "id": "25fa648f-ab23-48f6-9d74-53019c20f9a7",
   "metadata": {},
   "outputs": [],
   "source": [
    "# strip() : 문자열 양 끝에 있는 공백 제거\n",
    "# split(구분자) : 특정 구분자를 기준으로 문자열을 쪼개서 리스트로 만듦\n",
    "# join(리스트) : 특정 구분자로 연결하여 하나의 문자열로 합침\n",
    "# replace(찾을 문자열, 바꿀 문자열) : 문자열 안에 특정 부분을 다른 문자열로 바꿔줌\n",
    "# upper() / lower() : 문자열을 모두 대문자 / 소문자로 바꿔줌\n",
    "# startswith(prefix) / endswith(suffix) : 문자열이 특정 문자열로 시작/ 끝나는지 확인해서 True/False를 반환\n",
    "# isdigit() : 문자열이 모두 숫자인지 확인\n",
    "# isalpha() : 문자열이 모두 알파벳인지 확인\n",
    "# islower() : 문자열이 모두 소문자인지 확인\n",
    "# isupper() : 문자열이 모두 대문자인지 확인"
   ]
  },
  {
   "cell_type": "markdown",
   "id": "4af7c6d1-00c5-4d20-b24a-f687acb70b35",
   "metadata": {},
   "source": [
    "### 집합(Set) 메소드"
   ]
  },
  {
   "cell_type": "code",
   "execution_count": null,
   "id": "e0394970-fac9-49dd-8222-5d8fed25dd1a",
   "metadata": {},
   "outputs": [],
   "source": [
    "# add(x) : 요소 추가 (중복은 무시)\n",
    "# remove(x) : 요소 제거 (요소가 없으면 에러)\n",
    "# discard(x) : 요소를 제거 (요소가 없어도 에러X)\n",
    "# union(other_set) : 합집합\n",
    "# intersection(other_set) : 교집합\n",
    "# difference(other_set) : 차집합\n",
    "# issubset(other_set) / issuperset(other_set) 부분집합 / 상위집합의 여부"
   ]
  },
  {
   "cell_type": "markdown",
   "id": "3e7271a3-d8c9-42d2-a22d-95187b27e520",
   "metadata": {},
   "source": [
    "### 파일 객체의 메소드"
   ]
  },
  {
   "cell_type": "code",
   "execution_count": null,
   "id": "b5bf4e5e-7860-4923-91e1-662c569e3e6e",
   "metadata": {},
   "outputs": [],
   "source": [
    "# read() : 파일의 모든 내용을 문자열로 읽기\n",
    "# readline() : 파일에서 한 줄만 읽기\n",
    "# readlines() : 모든 줄을 읽어서 각 줄을 요소로 하는 리스트를 반환\n",
    "# write(문자열) : 파일에 문자열 쓰기\n",
    "# close() : 파일을 닫기 (중요!! with open(...) as f: 구문 쓰면 자동으로 닫아줌)"
   ]
  },
  {
   "cell_type": "markdown",
   "id": "4403170f-fc10-4b75-9c5e-3ffa298d99cd",
   "metadata": {},
   "source": [
    "### 리스트 메소드"
   ]
  },
  {
   "cell_type": "code",
   "execution_count": null,
   "id": "53e51be6-a0ec-4eeb-9501-d3f0e83d359a",
   "metadata": {},
   "outputs": [],
   "source": [
    "# 추가 / 삽입\n",
    "# append(x) : 리스트 끝에 항목 하나 추가\n",
    "# extend(iterable) : 리스트 끝에 다른 리스트나 반복 가능한 객체의 모든 항목 추가\n",
    "# insert(i, x) : 지정한 위치 i에 x를 삽입\n",
    "\n",
    "# 삭제 \n",
    "# remove(x) : 값이 x인 첫 번째 항목 제거\n",
    "# pop([i]) : 지정한 위치 i의 항목을 제거하고 그 항목을 반환 (i를 지정하지 않으면 마지막 항목)\n",
    "# clear() : 모든 항목 삭제\n",
    "\n",
    "# 검색/정보\n",
    "# index(x[, start[, end]]) : 값이 x인 첫번째 항목의 인덱스를 반환 (없으면 ValueError)\n",
    "# count(x) : 리스트에서 x가 등장하는 횟수 반환\n",
    "# sort(key=None, reverse=False) : 리스트 항목을 정렬\n",
    "# reverse() : 항목의 순서를 뒤집음\n",
    "# copy() : 리스트의 얕은 복사본 반환\n"
   ]
  },
  {
   "cell_type": "markdown",
   "id": "66d0d3ac-5126-4a4f-b496-6930e81721f0",
   "metadata": {},
   "source": [
    "### 딕셔너리 메소드"
   ]
  },
  {
   "cell_type": "code",
   "execution_count": null,
   "id": "f79bc32d-2f16-44a6-9696-d7966d17e30a",
   "metadata": {},
   "outputs": [],
   "source": [
    "# 조회\n",
    "# keys() : 모든 키 반환\n",
    "# values() : 모든 값 반환\n",
    "# items() : 모든 키-값 쌍을 튜플로 반환\n",
    "# get(key, default) : 키에 해당하는 값을 반환, 키가 없으면 default 값 반환 (default 지정 안하면 None)\n",
    "\n",
    "# 추가/수정\n",
    "# update() : 다른 딕셔너리의 키-값 쌍을 현재 딕셔너리에 추가\n",
    "# setdefault(key, default) : 키가 있으면 값을 반환, 없으면 default값으로 키-값 쌍을 추가\n",
    "\n",
    "# 삭제\n",
    "# pop(key, default) : 키에 해당하는 값을 반환하고 키-값 쌍을 삭제, 키가 없으면 default 반환\n",
    "# popitem() : 마지막으로 추가된 키-값 쌍을 튜플로 반환하고 삭제\n",
    "# clear() : 딕셔너리의 모든 키-값 쌍을 삭제\n"
   ]
  },
  {
   "cell_type": "markdown",
   "id": "16418e53-ff65-4c1e-bc24-302d3c95d6c7",
   "metadata": {},
   "source": [
    "### 튜플 메소드"
   ]
  },
  {
   "cell_type": "code",
   "execution_count": null,
   "id": "d0266095-932e-414d-90ae-4b2b6e2b5e36",
   "metadata": {},
   "outputs": [],
   "source": [
    "# count() : 튜플에서 지정된 값이 발생하는 횟수 반환\n",
    "# index() : 튜플에서 지정된 값을 검색하여 첫 번째로 발견된 위치(인덱스)를 반환"
   ]
  },
  {
   "cell_type": "markdown",
   "id": "89bda577-63a9-4830-9c72-31c68e7d92c9",
   "metadata": {},
   "source": [
    "### 조건문 메소드"
   ]
  },
  {
   "cell_type": "code",
   "execution_count": null,
   "id": "6d8ab386-c449-42a2-bbca-2a90576a1007",
   "metadata": {},
   "outputs": [],
   "source": [
    "# in 연산자 : 리스트, 튜플, 문자열 등에 특정 요소가 있는지 확인\n",
    "# isinstance(object, class) : 객체가 특정 클래스의 인스턴스인지 확인\n",
    "# all() : 모든 요소가 True인지 확인 (빈 리스면 True 반환)\n",
    "# any() : 하나라도 True인 요소가 있는지 확인 (빈 리스트면 False 반환)\n",
    "# get(key, default) : 딕셔너리에서 키가 있는지 확인하고 값을 가져오는데, 키가 없으면 기본값 반환"
   ]
  },
  {
   "cell_type": "markdown",
   "id": "561bb88f-c5a9-4cb1-ad8b-a3d222f15c94",
   "metadata": {},
   "source": [
    "### 반복문"
   ]
  },
  {
   "cell_type": "code",
   "execution_count": null,
   "id": "6aedb3ea-6514-4b73-ac9e-adf3e0f34c2f",
   "metadata": {},
   "outputs": [],
   "source": [
    "# 1. 제어 키워드\n",
    "# break : for, while을 즉시 종료\n",
    "# continue : 현재 반복을 건너뛰고 다음 반복으로 넘어감\n",
    "\n",
    "# 2. 예외처리 키워드\n",
    "# try / except : 코드에서 오류가 발생할 수 있는 부분을 안전하게 처리\n",
    "# finally : 예외 발생 여부와 상관없이 항상 실행되는 코드 블록\n",
    "# pass : 아무것도 하지 않고 넘어감"
   ]
  },
  {
   "cell_type": "markdown",
   "id": "56d7f04a-34cc-47a3-b8b0-faea55ca10e8",
   "metadata": {},
   "source": [
    "### math 라이브러리"
   ]
  },
  {
   "cell_type": "code",
   "execution_count": null,
   "id": "af3c184a-c31b-454c-960a-34f215299f50",
   "metadata": {},
   "outputs": [],
   "source": [
    "# 1. 기본 수학 함수\n",
    "# ceil(x) : x 이상의 가장 작은 정수 반환(올림)\n",
    "# floor(x) : x 이하의 가장 큰 정수 반환 (내림)\n",
    "# fabs(x) : x의 절대값 반환\n",
    "# factorial(x) : x의 팩토리얼 반환\n",
    "# trunc(x) : 소수부 제거 (0쪽으로 반올림)\n",
    "\n",
    "# 2. 제곱, 제곱근, 지수 함수\n",
    "# sqrt(x) : x의 제곱근 반환\n",
    "# pow(x, y) : x의 y승 계산\n",
    "# exp(x) : e^x 계산\n",
    "\n",
    "# 3. 로그 함수\n",
    "# log(x,y) : y를 밑으로 하는 log x 값 반환\n",
    "# log10(x) : 10을 밑으로 하는 log x값 반환\n",
    "# log2(x) : 2를 밑으로 하는 log x값 반환\n",
    "\n",
    "# 4. 삼각 함수\n",
    "# .sin 사인 함수\n",
    "# .cos 코사인 함수\n",
    "# .tan 탄젠트 함수\n",
    "\n",
    "# 5. 쌍곡선 함수\n",
    "\n",
    "# 6. 특수 함수\n",
    "\n",
    "# 7. 나머지 계산\n",
    "# fmod(x,y) : x를 y로 나눈 나머지 반환\n",
    "\n",
    "# 8. 확률과 통계\n",
    "\n",
    "# 9. 기타 함수\n",
    "# gcd(a, b) : 최대공약수 게산\n",
    "# lcm(a, b) : 최소공배수 계산\n",
    "# modf(x) : x의 소수부와 정수부 분리 반환\n",
    "\n",
    "# 10. 주요 상수\n",
    "# pi : 원주율\n",
    "# e : 자연로그의 밑\n",
    "# inf : 무한대\n",
    "# nan : Not a Number"
   ]
  },
  {
   "cell_type": "markdown",
   "id": "4b16147f-ef1a-436f-a232-09637867ae1b",
   "metadata": {},
   "source": [
    "### numpy as np 라이브러리"
   ]
  },
  {
   "cell_type": "code",
   "execution_count": null,
   "id": "ee9dfeae-df76-465d-96cc-e60e2bca61ac",
   "metadata": {},
   "outputs": [],
   "source": [
    "# 1. 배열 생성 함수\n",
    "# array() : 배열 생성\n",
    "# zeros() : 모든 요소가 0인 배열 생성\n",
    "# ones() : 모든 요소가 1인 배열 생성\n",
    "# arrange() : 일정한 간격의 숫자 배열 생성\n",
    "# linspace() : 시작과 끝 사이에 균등하게 분포된 값 생성\n",
    "\n",
    "# 2. 배열 조작 함수 \n",
    "# array.reshape() : 배열 모양 변경 (1->2 차원 등)\n",
    "# array.transpose() : 행렬 전치 (행과 열 바꾸기)\n",
    "# concatenate() : 배열 이어붙이기\n",
    "# array.flatten() : 다차원 배열을 1차원으로 평탄화\n",
    "\n",
    "# 3. 배열 정보 확인 함수\n",
    "# array.shape : 배열 모양 확인 (튜플로 반환)\n",
    "# array.ndim : 배열 차원 확인\n",
    "# array.size : 배열 요소 총 개수\n",
    "# array.dtype : 배열 요소 데이터 타입\n",
    "\n",
    "# 4. 수학 및 통계 함수\n",
    "# sum() : 배열 요소 합계\n",
    "# mean() : 평균 계산\n",
    "# max(), min() : 최대값, 최소값\n",
    "# std() : 표준편차\n",
    "# exp() : 지수 함수 계산\n",
    "# log() : 로그 함수 계산\n",
    "\n",
    "# 5. 난수 발생 함수\n",
    "# random.seed() : 난수 시드 설정 (항상 같은 결과 나오게끔)\n",
    "# random.randn() : 표준 정규분포 난수 생성\n",
    "# random.randint() : 범위 내 랜덤 정수 생성\n",
    "\n",
    "# 6. 배열 정렬 및 검색 함수\n",
    "# sort() : 배열 정렬\n",
    "# argsort() : 정렬된 인덱스 반환\n",
    "# where() : 조건에 맞는 인덱스 찾기"
   ]
  },
  {
   "cell_type": "markdown",
   "id": "a0c2751e-ce6c-42d6-9f34-96fb69c71394",
   "metadata": {},
   "source": [
    "### pandas as pd 라이브러리"
   ]
  },
  {
   "cell_type": "code",
   "execution_count": null,
   "id": "be1765b7-d045-4569-99d1-4e7246794411",
   "metadata": {},
   "outputs": [],
   "source": [
    "# 데이터 분석에 필수\n",
    "\n",
    "# 0.표 형태의 데이터를 담는 객체를 만드는 함수\n",
    "# DataFrame(data) : 보통 변수 df에 담는다\n",
    "\n",
    "# 1. 데이터 불러오기/저장하기 (Input/Output)\n",
    "# pd.read.csv('파일경로.csv') : csv 파일을 읽어서 dataframe으로 만듦\n",
    "# pd.read_excel('파일경로.xlsx') : 엑셀 파일을 읽음\n",
    "# df.to_csv('새파일.csv', index=False): DataFrame을 CSV 파일로 저장 (Index=False는 인덱스를 저장하지 않겠다는 뜻)\n",
    "# df.to_excel('새파일.xlsx', index=False') : DataFrame을 Excel파일로 저장해요\n",
    "\n",
    "# 2. 데이터 확인하기 (Inspection)\n",
    "# df.head(n=5) : DataFrame의 상위 n개 행을 보여줌 (기본값 5개)\n",
    "# df.tail(n=5) : DataFrame의 하위 n개 행을 보여줌\n",
    "# df.info() :  DataFrame의 구조, 컬럼 타입, 결측치 정보등을 요약해서 보여줌\n",
    "# df.describe() : 숫자형 컬럼의 기술 통계량 (평균, 표준편차, 최소/최대값 등)을 보여줌\n",
    "# df.shape : DataFrame의 행과 열 개수를 튜플 형태로 반환\n",
    "# df.columns : 컬럼 이름들 반환\n",
    "# df.index : 인덱스 반환\n",
    "# df['컬럼명'].value_counts() : 특정 컬럼의 고유값별 개수를 반환 (Series 메소드)\n",
    "\n",
    "# 3. 데이터 선택 및 필터링\n",
    "# df['컬럼명'] 또는 df.컬럼명 : 특정 컬럼(Series)을 선택\n",
    "# df[['컬럼1', '컬럼2']] : 여러 컬럼(DataFrame)을 선택\n",
    "# df.loc[행인덱스, 열인덱스] : 라벨(이름)을 기준으로 데이터에 접근\n",
    "# df.iloc[행위치, 열위치] : 정수 위치를 기준으로 데이터에 접근\n",
    "# df[df['컬럼명'] > 값] : 특정 조건에 맞는 행들을 필터링\n",
    "\n",
    "# 4.데이터 조작하기\n",
    "# df['새컬럼명'] = 값 : 새로운 컬럼을 추가하거나 기존 컬럼의 값을 변경\n",
    "# df.drop('컬럼명', axis=1, inplace=True) : 컬럼을 삭제 _ axis=0 : 행  axis=1 : 열, inplace=True는 원본 DataFrame을 바로 수정하겠다는 뜻\n",
    "# df.rename(columns={'옛이름' : '새이름'}, inplace=True) : 컬럼 이름 변경\n",
    "# df.astype({'컬럼명' : '새로운타입'}) : 컬럼의 데이터 타입을 변경\n",
    "# df.copy() : 원본 복사\n",
    "\n",
    "# 5. 결측치 처리\n",
    "# NaN (Not a Number) 같은 비어있는 값들을 처리할 때 사용\n",
    "# df.isnull() : DataFrame의 각 요소가 결측치인지 True/False로 반환\n",
    "# df.isna().sum() : 각 컬럼별 결측치의 개수를 셈\n",
    "# df.dropna(how='any', inplace=True) : 결측치가 있는 행이나 열을 삭제 (how='any'는 하나라도 있으면 삭제, how='all'은 모두 결측치여야 삭제)\n",
    "# df.fillna(값, inplace=True) : 결측치를 특정값으로 채움\n",
    "\n",
    "# 6. 데이터 결합하기\n",
    "# 여러 DataFrame을 합치거나 병합할 때 사용\n",
    "# pd.concat([df1, df2]) : 두 개 이상의 DataFrame을 행 또는 열 방향으로 이어 붙임\n",
    "# pd.merge(df1, df2, on='키컬럼') : 두 DataFrame을 특정 키 컬럼을 기준으로 합침 (SQL의 JOIN과 유사)\n",
    "\n",
    "# 7. 그룹화 및 집계\n",
    "# 데이터를 특정 기준으로 그룹화하고 통계량을 계산할 떄 사용\n",
    "# df.groupby('컬럼명') : 특정 컬럼 기준으로 데이터를 그룹화\n",
    "# df.groupby('컬럼명').mean() : 그룹별 평균을 계산\n",
    "# df.groupby('컬럼명')['다른컬럼'].sum() : 특정 컬럼에 대해 그룹별 합계를 계산\n",
    "# df.groupby('컬럼명').agg({'컬럼1' : 'sum', '컬럼2' : 'mean'}) : 여러 컬럼에 대해 다른 집계 함수를 적용\n",
    "\n",
    "# *컬럼이란? : 열"
   ]
  },
  {
   "cell_type": "markdown",
   "id": "23c7239a-533f-4832-a429-00fae1d32056",
   "metadata": {},
   "source": [
    "### matplotlib.pyplot as plt 라이브러리"
   ]
  },
  {
   "cell_type": "code",
   "execution_count": null,
   "id": "c8e67369-f0c6-4a10-8363-a32d36e83471",
   "metadata": {},
   "outputs": [],
   "source": [
    "# 1. 그래프\n",
    "# plt.bar() : 막대 그래프\n",
    "# plt.scatter() : 산점도\n",
    "# plt.hist() : 히스토그램\n",
    "# plt.pie() : 원형그래프\n",
    "\n",
    "# 2. 그래프 꾸미기\n",
    "# 색상 : color='색상'\n",
    "# 선 : linestyle='선종류'\n",
    "# 마커 : marker='마커종류'\n",
    "# 선두께 : linewidth=2\n",
    "# 글꼴크기 : fontsize=15\n",
    "# plt.legend() : 여러 선 그래프의 이름을 표시\n",
    "# plt.title() : 그래프 이름\n",
    "# plt.xlabel(\"X축 이름\")\n",
    "# plt.ylabel(\"Y축 이름\")\n",
    "# plt.show()\n",
    "\n",
    "# 3. 캔버스와 그림 영역\n",
    "# Figure : 그래프를 그릴 수 있는 전체 캔버스 같은 공간\n",
    "# Axes : 캔버스 안에 실제로 그래프가 그려지는 그림 영역 (Figure 하나에 여러 Axes를 만들 수 있다) ex) plt.figure(figsize=(10,5))"
   ]
  },
  {
   "cell_type": "markdown",
   "id": "87362c4a-c14e-4ae8-9bc4-206176344897",
   "metadata": {},
   "source": [
    "### tqdm 라이브러리"
   ]
  },
  {
   "cell_type": "code",
   "execution_count": null,
   "id": "2c5284b0-29c3-41fd-a52f-abb56598bb49",
   "metadata": {},
   "outputs": [],
   "source": [
    "# tqdm()\n",
    "# 매개변수에 \n",
    "# desc = \"데이터 처리 중\" : 진행 바 앞에 설명을 추가해서 어떤 작업이 진행 중인지 알려줌\n",
    "# unit = 'MB' : 단위 지정\n",
    "\n",
    "# trange() : range와 tqdm을 한번에 사용하는 함수\n"
   ]
  },
  {
   "cell_type": "markdown",
   "id": "cc087486-48b4-46c1-814b-15d6ce30c05a",
   "metadata": {},
   "source": [
    "### requests 라이브러리"
   ]
  },
  {
   "cell_type": "code",
   "execution_count": 5,
   "id": "274f288c-b02a-42cf-80df-947e9693e77c",
   "metadata": {},
   "outputs": [],
   "source": [
    "# HTTP 요청을 보내는 작업 관련 라이브러리\n",
    "# 주로 웹사이트에서 정보를 가져오거나 (크롤링), 다른 서버의 API와 통신할 떄 주로 사용\n",
    "\n",
    "# 1. 기본 요청 함수\n",
    "# get(url, params=None, **kwargs) : 조회\n",
    "# post(url, data=None, json=None, **kwargs) : 생성\n",
    "# put(url, data=None, **kwargs) : 수정\n",
    "# delete(url, **kwargs) : 삭제\n",
    "# head(url, **kwargs) : 헤더만 받기\n",
    "# patch(url, data=None, **kwargs) : 일부 데이터 수정\n",
    "# **kwargs는 keyword arguments의 줄임말\n",
    "\n",
    "\n",
    "\n",
    "# 2. 응답 객체의 속성과 메소드\n",
    "# response.status_code : 응답 상태 코드 (200, 404 등)\n",
    "# response.text : 응답 내용을 문자열로 반환\n",
    "# response.content : 응답 내용 바이트로 반환\n",
    "# response.json() : 응답 내용 JSON으로 파싱해서 딕셔너리로 반환\n",
    "# response.headers : 응답 헤더를 딕셔너리 형태로 반환\n",
    "# response.cookies : 응답 쿠키 정보를 반환\n",
    "# response.url : 요청한 URL 반환\n",
    "# response.encoding : 응답의 인코딩 방식을 설정하거나 확인\n",
    "# response.elapsed : 요청에 걸린 시간 반환\n",
    "\n",
    "# 3. 세션 관리 함수\n",
    "# session() : 세션 객체 생성 (쿠키 유지, 연결 재사용 등)\n",
    "\n",
    "# 4. 요청 옵션 관련 매개변수\n",
    "# params : URL 쿼리 파라미터를 딕셔너리로 전달\n",
    "# data : 요청 본문 데이터를 전달 (폼 데이터)\n",
    "# json : Json 형식의 데이터 전달\n",
    "# headers : HTTP 헤더를 딕셔너리로 전달\n",
    "# cookies : 쿠키를 딕셔너리로 전달\n",
    "# file : 파일 업로드를 위한 딕셔너리를 전달\n",
    "# timeout : 요청 제한 시간을 설정 (초단위)\n",
    "# verify : SSL 인증서 검증 여부 설정\n",
    "# allow_redirects : 리다이렉션 허용 여부 설정\n",
    "\n"
   ]
  },
  {
   "cell_type": "markdown",
   "id": "cade8daa-9515-4d4e-a0d5-3f1f0ad7230a",
   "metadata": {},
   "source": [
    "### sklearn 라이브러리"
   ]
  },
  {
   "cell_type": "code",
   "execution_count": null,
   "id": "4436b6e7-5005-4f16-bada-2603691ea77f",
   "metadata": {},
   "outputs": [],
   "source": []
  }
 ],
 "metadata": {
  "kernelspec": {
   "display_name": "Python 3 (ipykernel)",
   "language": "python",
   "name": "python3"
  },
  "language_info": {
   "codemirror_mode": {
    "name": "ipython",
    "version": 3
   },
   "file_extension": ".py",
   "mimetype": "text/x-python",
   "name": "python",
   "nbconvert_exporter": "python",
   "pygments_lexer": "ipython3",
   "version": "3.12.11"
  }
 },
 "nbformat": 4,
 "nbformat_minor": 5
}
